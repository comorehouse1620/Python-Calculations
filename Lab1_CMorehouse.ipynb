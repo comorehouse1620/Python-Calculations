{
  "nbformat": 4,
  "nbformat_minor": 0,
  "metadata": {
    "colab": {
      "name": "Lab1_CMorehouse.ipynb",
      "provenance": [],
      "collapsed_sections": []
    },
    "kernelspec": {
      "name": "python3",
      "display_name": "Python 3"
    }
  },
  "cells": [
    {
      "cell_type": "code",
      "metadata": {
        "id": "RNGCFzpvhRGP",
        "colab_type": "code",
        "colab": {}
      },
      "source": [
        "'''\n",
        "Author: Claire Morehouse\n",
        "Date Created: August 30th, 2020\n",
        "Version of Python: Google Colab\n",
        "Lab Description: The purpose of this lab is to calculate agriculture land and rain runoff in Kenya. Inputs were plot length (50 ft), width (20 ft), \n",
        "and rainfall (1 inch). Outputs were converted plot length and width to inches, plot area in inches, runoff in inches, and runoff in gallons. \n",
        "'''"
      ],
      "execution_count": null,
      "outputs": []
    },
    {
      "cell_type": "code",
      "metadata": {
        "id": "lpkD3c-2iJE3",
        "colab_type": "code",
        "colab": {
          "base_uri": "https://localhost:8080/",
          "height": 34
        },
        "outputId": "8d91b611-d863-4355-e5c4-6f3e961036d0"
      },
      "source": [
        "# Create variables for length and width in feet\n",
        "plot_length_ft = 50.0\n",
        "plot_width_ft = 20.0\n",
        "# Convert these variables to inches (1 foot = 12 inches)\n",
        "plot_length_in = plot_length_ft*12.0\n",
        "plot_width_in = plot_width_ft*12.0\n",
        "# Create expression to compute area  \n",
        "plot_area_in = plot_length_in*plot_width_in\n",
        "print(plot_area_in)"
      ],
      "execution_count": 8,
      "outputs": [
        {
          "output_type": "stream",
          "text": [
            "144000.0\n"
          ],
          "name": "stdout"
        }
      ]
    },
    {
      "cell_type": "code",
      "metadata": {
        "id": "c2RBwNekiI6n",
        "colab_type": "code",
        "colab": {
          "base_uri": "https://localhost:8080/",
          "height": 34
        },
        "outputId": "01d64374-ecbe-4065-ef3e-db94fb051102"
      },
      "source": [
        "# Create variables for rainfall in inches\n",
        "rainfall_in = 1.0\n",
        "# Create expression for runoff inches\n",
        "runoff_in = rainfall_in*plot_length_in*plot_width_in\n",
        "# Convert to cubic gallons (231 cubic inch = 1 gallon)\n",
        "runoff_gallons = runoff_in/231\n",
        "# Format to 2 decimal places\n",
        "format_runoff_gallons = \"{:.2f}\".format(runoff_gallons)\n",
        "# Display to 2 decimal places\n",
        "print(format_runoff_gallons)\n",
        "\n",
        "\n"
      ],
      "execution_count": 19,
      "outputs": [
        {
          "output_type": "stream",
          "text": [
            "623.38\n"
          ],
          "name": "stdout"
        }
      ]
    },
    {
      "cell_type": "code",
      "metadata": {
        "id": "LtFaeCu4r_zg",
        "colab_type": "code",
        "colab": {
          "base_uri": "https://localhost:8080/",
          "height": 102
        },
        "outputId": "aee341f8-b5ff-410e-a20b-4d49ab5a48bb"
      },
      "source": [
        "# Display key inputs and outputs\n",
        "print(\"Plot length in inches is: \", plot_length_in)\n",
        "print(\"Plot width in inches is: \", plot_width_in)\n",
        "print(\"Plot area in inches is:\", plot_area_in)\n",
        "print(\"Rainfall inches is: \", rainfall_in)\n",
        "print(\"Runoff gallons is: \", format_runoff_gallons)"
      ],
      "execution_count": 21,
      "outputs": [
        {
          "output_type": "stream",
          "text": [
            "Plot length in inches is:  600.0\n",
            "Plot width in inches is:  240.0\n",
            "Plot area in inches is: 144000.0\n",
            "Rainfall inches is:  1.0\n",
            "Runoff gallons is:  623.38\n"
          ],
          "name": "stdout"
        }
      ]
    }
  ]
}